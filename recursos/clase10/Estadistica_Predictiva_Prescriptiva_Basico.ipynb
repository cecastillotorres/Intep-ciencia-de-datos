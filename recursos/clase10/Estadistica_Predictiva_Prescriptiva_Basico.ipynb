{
 "cells": [
  {
   "cell_type": "markdown",
   "id": "2be1a6bd",
   "metadata": {},
   "source": [
    "# Estadística Predictiva y Prescriptiva — Notebook Básico (Python)\n",
    "**Objetivo:** Introducir de forma sencilla los conceptos de analítica **predictiva** (predecir) y **prescriptiva** (recomendar decisiones) con un ejemplo guiado.\n",
    "**Duración sugerida:** 1.5–2 horas\n"
   ]
  },
  {
   "cell_type": "markdown",
   "id": "20069dc9",
   "metadata": {},
   "source": [
    "## 0) Preparación del entorno"
   ]
  },
  {
   "cell_type": "code",
   "execution_count": 3,
   "id": "b2233d71",
   "metadata": {},
   "outputs": [],
   "source": [
    "\n",
    "# Si necesitas instalar paquetes localmente, descomenta:\n",
    "# !pip install scikit-learn pandas matplotlib\n",
    "\n",
    "import numpy as np\n",
    "import pandas as pd\n",
    "import matplotlib.pyplot as plt\n",
    "\n",
    "from sklearn.model_selection import train_test_split\n",
    "from sklearn.linear_model import LinearRegression\n",
    "from sklearn.metrics import r2_score, mean_absolute_error\n",
    "\n",
    "np.random.seed(123)\n"
   ]
  },
  {
   "cell_type": "markdown",
   "id": "8fdaddf1",
   "metadata": {},
   "source": [
    "## 1) Dataset simple\n",
    "Simularemos datos donde **TCH** (rendimiento) depende de lluvia, fertilización y horas de sol. Añadimos ruido para parecer más realista."
   ]
  },
  {
   "cell_type": "code",
   "execution_count": 4,
   "id": "db22ca97",
   "metadata": {},
   "outputs": [
    {
     "data": {
      "text/html": [
       "<div>\n",
       "<style scoped>\n",
       "    .dataframe tbody tr th:only-of-type {\n",
       "        vertical-align: middle;\n",
       "    }\n",
       "\n",
       "    .dataframe tbody tr th {\n",
       "        vertical-align: top;\n",
       "    }\n",
       "\n",
       "    .dataframe thead th {\n",
       "        text-align: right;\n",
       "    }\n",
       "</style>\n",
       "<table border=\"1\" class=\"dataframe\">\n",
       "  <thead>\n",
       "    <tr style=\"text-align: right;\">\n",
       "      <th></th>\n",
       "      <th>lluvia_mm</th>\n",
       "      <th>fertilizacion</th>\n",
       "      <th>horas_sol</th>\n",
       "      <th>TCH</th>\n",
       "    </tr>\n",
       "  </thead>\n",
       "  <tbody>\n",
       "    <tr>\n",
       "      <th>0</th>\n",
       "      <td>1526.822267</td>\n",
       "      <td>134.932274</td>\n",
       "      <td>10.437967</td>\n",
       "      <td>43.400548</td>\n",
       "    </tr>\n",
       "    <tr>\n",
       "      <th>1</th>\n",
       "      <td>1157.525401</td>\n",
       "      <td>167.497724</td>\n",
       "      <td>6.080593</td>\n",
       "      <td>45.542521</td>\n",
       "    </tr>\n",
       "    <tr>\n",
       "      <th>2</th>\n",
       "      <td>1104.166308</td>\n",
       "      <td>268.413478</td>\n",
       "      <td>6.634790</td>\n",
       "      <td>56.594207</td>\n",
       "    </tr>\n",
       "    <tr>\n",
       "      <th>3</th>\n",
       "      <td>1396.183292</td>\n",
       "      <td>211.040597</td>\n",
       "      <td>9.885812</td>\n",
       "      <td>58.095246</td>\n",
       "    </tr>\n",
       "    <tr>\n",
       "      <th>4</th>\n",
       "      <td>1547.522073</td>\n",
       "      <td>193.185920</td>\n",
       "      <td>6.229476</td>\n",
       "      <td>51.237689</td>\n",
       "    </tr>\n",
       "  </tbody>\n",
       "</table>\n",
       "</div>"
      ],
      "text/plain": [
       "     lluvia_mm  fertilizacion  horas_sol        TCH\n",
       "0  1526.822267     134.932274  10.437967  43.400548\n",
       "1  1157.525401     167.497724   6.080593  45.542521\n",
       "2  1104.166308     268.413478   6.634790  56.594207\n",
       "3  1396.183292     211.040597   9.885812  58.095246\n",
       "4  1547.522073     193.185920   6.229476  51.237689"
      ]
     },
     "execution_count": 4,
     "metadata": {},
     "output_type": "execute_result"
    }
   ],
   "source": [
    "\n",
    "n = 140\n",
    "df = pd.DataFrame({\n",
    "    'lluvia_mm': np.random.uniform(900, 1800, n),\n",
    "    'fertilizacion': np.random.uniform(120, 280, n),\n",
    "    'horas_sol': np.random.uniform(6, 11, n)\n",
    "})\n",
    "ruido = np.random.normal(0, 4, n)\n",
    "df['TCH'] = 0.018*df['lluvia_mm'] + 0.12*df['fertilizacion'] + 0.70*df['horas_sol'] + ruido\n",
    "\n",
    "df.head()\n"
   ]
  },
  {
   "cell_type": "markdown",
   "id": "6baa8ba7",
   "metadata": {},
   "source": [
    "**Vista rápida del objetivo**"
   ]
  },
  {
   "cell_type": "code",
   "execution_count": 5,
   "id": "1040d785",
   "metadata": {},
   "outputs": [
    {
     "data": {
      "text/plain": [
       "count    140.000000\n",
       "mean      53.506844\n",
       "std        8.013771\n",
       "min       28.609734\n",
       "25%       48.121501\n",
       "50%       53.072684\n",
       "75%       59.359686\n",
       "max       71.455916\n",
       "Name: TCH, dtype: float64"
      ]
     },
     "execution_count": 5,
     "metadata": {},
     "output_type": "execute_result"
    }
   ],
   "source": [
    "\n",
    "df['TCH'].describe()\n"
   ]
  },
  {
   "cell_type": "markdown",
   "id": "4dbbb7f6",
   "metadata": {},
   "source": [
    "**Histograma de TCH**"
   ]
  },
  {
   "cell_type": "code",
   "execution_count": 6,
   "id": "42744808",
   "metadata": {},
   "outputs": [
    {
     "data": {
      "image/png": "[encoded data removed]",
      "text/plain": [
       "<Figure size 640x480 with 1 Axes>"
      ]
     },
     "metadata": {},
     "output_type": "display_data"
    }
   ],
   "source": [
    "\n",
    "plt.hist(df['TCH'], bins=18)\n",
    "plt.title('Histograma de TCH')\n",
    "plt.xlabel('TCH'); plt.ylabel('Frecuencia')\n",
    "plt.show()\n"
   ]
  },
  {
   "cell_type": "markdown",
   "id": "86d71221",
   "metadata": {},
   "source": [
    "## 2) Analítica Predictiva (Regresión Lineal)\n",
    "Entrenaremos un modelo sencillo para **predecir TCH** usando las 3 variables. Evaluaremos con **R²** y **MAE** y veremos los **coeficientes** (interpretables)."
   ]
  },
  {
   "cell_type": "code",
   "execution_count": 7,
   "id": "5aab99b1",
   "metadata": {},
   "outputs": [
    {
     "name": "stdout",
     "output_type": "stream",
     "text": [
      "{'R2': 0.697, 'MAE': 3.56}\n"
     ]
    },
    {
     "data": {
      "text/plain": [
       "(1.3583806784740133,\n",
       " lluvia_mm        0.017039\n",
       " fertilizacion    0.121606\n",
       " horas_sol        0.627338\n",
       " dtype: float64)"
      ]
     },
     "execution_count": 7,
     "metadata": {},
     "output_type": "execute_result"
    }
   ],
   "source": [
    "\n",
    "X = df[['lluvia_mm','fertilizacion','horas_sol']]\n",
    "y = df['TCH']\n",
    "\n",
    "X_train, X_test, y_train, y_test = train_test_split(X, y, test_size=0.3, random_state=42)\n",
    "\n",
    "lr = LinearRegression()\n",
    "lr.fit(X_train, y_train)\n",
    "\n",
    "y_pred = lr.predict(X_test)\n",
    "print({'R2': round(r2_score(y_test, y_pred), 3), 'MAE': round(mean_absolute_error(y_test, y_pred), 2)})\n",
    "\n",
    "coef = pd.Series(lr.coef_, index=X.columns)\n",
    "float(lr.intercept_), coef\n"
   ]
  },
  {
   "cell_type": "markdown",
   "id": "333f751d",
   "metadata": {},
   "source": [
    "**Interpretación simple**\n",
    "- Un coeficiente positivo sugiere que al **aumentar** esa variable (manteniendo las demás), **sube** el TCH esperado.\n",
    "- **R²** cercano a 1 implica buen ajuste; **MAE** bajo indica menor error promedio.\n"
   ]
  },
  {
   "cell_type": "markdown",
   "id": "8937aee7",
   "metadata": {},
   "source": [
    "## 3) Analítica Prescriptiva (búsqueda sencilla)\n",
    "Supongamos que puedes decidir **fertilización** y **horas de sol asistidas** (p. ej., riego/iluminación) dentro de un **presupuesto**.\n",
    "Definimos:\n",
    "- **Costo** = 2 × fertilización + 30 × horas_sol\n",
    "- **Beneficio** = precio × TCH_predicha − costo\n",
    "- Restricción: **costo ≤ presupuesto**\n",
    "\n",
    "Probamos combinaciones (grid) y elegimos la de **mayor beneficio**."
   ]
  },
  {
   "cell_type": "code",
   "execution_count": 8,
   "id": "d0a87201",
   "metadata": {},
   "outputs": [
    {
     "name": "stdout",
     "output_type": "stream",
     "text": [
      "[120. 130. 140. 150. 160. 170. 180. 190. 200. 210. 220. 230. 240. 250.\n",
      " 260. 270. 280.]\n"
     ]
    },
    {
     "data": {
      "text/plain": [
       "((np.float64(280.0),\n",
       "  np.float64(6.0),\n",
       "  62.42521563225752,\n",
       "  np.float64(740.0),\n",
       "  np.float64(1444.8825471290133)),\n",
       " 289)"
      ]
     },
     "execution_count": 8,
     "metadata": {},
     "output_type": "execute_result"
    }
   ],
   "source": [
    "\n",
    "precio_ton = 35.0\n",
    "presupuesto = 1100.0\n",
    "\n",
    "lluvia_fija = df['lluvia_mm'].median()  # supondremos condiciones medias de lluvia\n",
    "\n",
    "grid_fert = np.linspace(120, 280, 17)   # 17 niveles\n",
    "grid_sol  = np.linspace(6, 11, 17)      # 17 niveles\n",
    "\n",
    "print(grid_fert)\n",
    "mejor = None\n",
    "resultados = []\n",
    "\n",
    "for f in grid_fert:\n",
    "    for hs in grid_sol:\n",
    "        X_row = pd.DataFrame([[lluvia_fija, f, hs]], columns=['lluvia_mm','fertilizacion','horas_sol'])\n",
    "        tch_pred = float(lr.predict(X_row)[0])\n",
    "        costo = 2.0*f + 30.0*hs\n",
    "        beneficio = precio_ton * tch_pred - costo\n",
    "        \n",
    "        if costo <= presupuesto:\n",
    "            resultados.append((f, hs, tch_pred, costo, beneficio))\n",
    "            if (mejor is None) or (beneficio > mejor[-1]):\n",
    "                mejor = (f, hs, tch_pred, costo, beneficio)\n",
    "\n",
    "mejor, len(resultados)\n"
   ]
  },
  {
   "cell_type": "markdown",
   "id": "795c330c",
   "metadata": {},
   "source": [
    "**`mejor`** devuelve: `(fertilizacion, horas_sol, TCH_predicho, costo, beneficio)`.\n",
    "El segundo valor indica cuántas combinaciones cumplieron el presupuesto."
   ]
  },
  {
   "cell_type": "markdown",
   "id": "101bb0f8",
   "metadata": {},
   "source": [
    "### Mapa simple de beneficio (fertilización vs horas de sol)"
   ]
  },
  {
   "cell_type": "code",
   "execution_count": 9,
   "id": "67792ecc",
   "metadata": {},
   "outputs": [
    {
     "data": {
      "image/png": "[encoded data removed]",
      "text/plain": [
       "<Figure size 600x400 with 2 Axes>"
      ]
     },
     "metadata": {},
     "output_type": "display_data"
    }
   ],
   "source": [
    "\n",
    "if len(resultados) > 0:\n",
    "    M = pd.DataFrame(resultados, columns=['fertilizacion','horas_sol','TCH_pred','costo','beneficio'])\n",
    "    pivot = M.pivot_table(index='fertilizacion', columns='horas_sol', values='beneficio')\n",
    "    plt.figure(figsize=(6,4))\n",
    "    plt.imshow(pivot.values, aspect='auto', origin='lower',\n",
    "               extent=[pivot.columns.min(), pivot.columns.max(), pivot.index.min(), pivot.index.max()])\n",
    "    plt.colorbar(label='Beneficio')\n",
    "    plt.xlabel('horas_sol'); plt.ylabel('fertilizacion')\n",
    "    plt.title('Beneficio estimado')\n",
    "    plt.tight_layout()\n",
    "    plt.show()\n",
    "    \n",
    "    M.sort_values('beneficio', ascending=False).head()\n",
    "else:\n",
    "    print(\"No hay escenarios dentro del presupuesto. Ajusta el presupuesto o los costos.\")\n"
   ]
  },
  {
   "cell_type": "markdown",
   "id": "b70b9895",
   "metadata": {},
   "source": [
    "##### Resumen en una frase\n",
    "\n",
    "- R² = 0.697: el modelo explica aproximadamente el 69.7% de la variación del TCH en los datos.\n",
    "- MAE = 3.56: en promedio las predicciones se equivocan 3.56 unidades de TCH.\n",
    "\n",
    "##### Explicación en lenguaje sencillo \n",
    "\n",
    "- R² (“R al cuadrado”): imagina que quieres explicar por qué unas parcelas rinden más que otras. R² = 0.697 significa que nuestro modelo captura casi 7 de cada 10 razones por las que el rendimiento cambia. No es perfecto, pero sí captura la mayor parte del patrón.\n",
    "- MAE (error absoluto medio): si decimos MAE = 3.56, quiere decir que, en promedio, nuestras predicciones están a 3.56 TCH del valor real. Es una medida directa y fácil de entender: “nos equivocamos, de media, X unidades”."
   ]
  },
  {
   "cell_type": "markdown",
   "id": "ef1b46f8",
   "metadata": {},
   "source": []
  }
 ],
 "metadata": {
  "kernelspec": {
   "display_name": ".env",
   "language": "python",
   "name": "python3"
  },
  "language_info": {
   "codemirror_mode": {
    "name": "ipython",
    "version": 3
   },
   "file_extension": ".py",
   "mimetype": "text/x-python",
   "name": "python",
   "nbconvert_exporter": "python",
   "pygments_lexer": "ipython3",
   "version": "3.10.11"
  }
 },
 "nbformat": 4,
 "nbformat_minor": 5
}
